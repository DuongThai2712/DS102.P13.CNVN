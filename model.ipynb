{
 "cells": [
  {
   "cell_type": "markdown",
   "metadata": {},
   "source": [
    "# Đồ án Học máy thống kê (DS102)\n",
    "Thành viên thực hiện:\n",
    "- Thái Bình Dương - 23520356\n",
    "- Phạm Bá Thuận - 22521447\n",
    "- Trương Tất Quang Vinh - 22521683"
   ]
  },
  {
   "cell_type": "markdown",
   "metadata": {},
   "source": [
    "Các mô hình được sử dụng:\n",
    "- Hồi quy Logistic\n",
    "- Hồi quy Logistic với hàm mất mát dùng SGD\n",
    "- SVM\n",
    "- SVM với hàm mất mát dùng SGD"
   ]
  },
  {
   "cell_type": "code",
   "execution_count": 1,
   "metadata": {},
   "outputs": [],
   "source": [
    "import numpy as np\n",
    "import pandas as pd\n",
    "import sklearn.metrics\n",
    "from transformers import BertTokenizer, BertModel\n",
    "import torch\n",
    "from sklearn.model_selection import train_test_split\n",
    "from sklearn.metrics import classification_report\n",
    "from sklearn.svm import SVC\n",
    "import matplotlib.pyplot as plt\n",
    "from sklearn.linear_model import LogisticRegression\n",
    "from sklearn.linear_model import SGDClassifier\n",
    "import re\n",
    "from sklearn.feature_extraction.text import TfidfVectorizer\n",
    "from sklearn.preprocessing import StandardScaler"
   ]
  },
  {
   "cell_type": "code",
   "execution_count": 2,
   "metadata": {},
   "outputs": [],
   "source": [
    "df = pd.read_csv('full_dataset.csv')"
   ]
  },
  {
   "cell_type": "code",
   "execution_count": 3,
   "metadata": {},
   "outputs": [
    {
     "data": {
      "text/html": [
       "<div>\n",
       "<style scoped>\n",
       "    .dataframe tbody tr th:only-of-type {\n",
       "        vertical-align: middle;\n",
       "    }\n",
       "\n",
       "    .dataframe tbody tr th {\n",
       "        vertical-align: top;\n",
       "    }\n",
       "\n",
       "    .dataframe thead th {\n",
       "        text-align: right;\n",
       "    }\n",
       "</style>\n",
       "<table border=\"1\" class=\"dataframe\">\n",
       "  <thead>\n",
       "    <tr style=\"text-align: right;\">\n",
       "      <th></th>\n",
       "      <th>Title</th>\n",
       "      <th>Source</th>\n",
       "      <th>Topic</th>\n",
       "      <th>Context/Summary</th>\n",
       "      <th>Nội dung</th>\n",
       "      <th>Từ ngữ</th>\n",
       "      <th>Dấu câu</th>\n",
       "      <th>Số từ</th>\n",
       "      <th>Total</th>\n",
       "    </tr>\n",
       "  </thead>\n",
       "  <tbody>\n",
       "    <tr>\n",
       "      <th>0</th>\n",
       "      <td>Hải Phòng: Bắt 2 đối tượng chuyên trộm cắp xe máy</td>\n",
       "      <td>Lao Động</td>\n",
       "      <td>Pháp Luật</td>\n",
       "      <td>Công an TP Hải Phòng cho biết, vừa bắt giữ 2 đ...</td>\n",
       "      <td>0</td>\n",
       "      <td>0</td>\n",
       "      <td>0</td>\n",
       "      <td>0</td>\n",
       "      <td>0</td>\n",
       "    </tr>\n",
       "    <tr>\n",
       "      <th>1</th>\n",
       "      <td>Vì sao giới trẻ Trung Quốc sẵn sàng ăn mặc “th...</td>\n",
       "      <td>Lao Động</td>\n",
       "      <td>Gia Đình - Hôn Nhân</td>\n",
       "      <td>Hình ảnh những cô gái mặc váy siêu ngắn quảng ...</td>\n",
       "      <td>0</td>\n",
       "      <td>1</td>\n",
       "      <td>1</td>\n",
       "      <td>0</td>\n",
       "      <td>1</td>\n",
       "    </tr>\n",
       "    <tr>\n",
       "      <th>2</th>\n",
       "      <td>Trương Ngọc Ánh nghiện rượu nặng</td>\n",
       "      <td>afamily.vn</td>\n",
       "      <td>Giải Trí</td>\n",
       "      <td>Trương Ngọc Ánh nhận vai diễn là 1 nhân vật ng...</td>\n",
       "      <td>1</td>\n",
       "      <td>0</td>\n",
       "      <td>0</td>\n",
       "      <td>0</td>\n",
       "      <td>1</td>\n",
       "    </tr>\n",
       "    <tr>\n",
       "      <th>3</th>\n",
       "      <td>Con người đã làm sạch cơ thể như thế nào khi c...</td>\n",
       "      <td>GenK</td>\n",
       "      <td>Sống</td>\n",
       "      <td>TPO - Những ghi chép sớm nhất về các chất giốn...</td>\n",
       "      <td>0</td>\n",
       "      <td>0</td>\n",
       "      <td>1</td>\n",
       "      <td>0</td>\n",
       "      <td>1</td>\n",
       "    </tr>\n",
       "    <tr>\n",
       "      <th>4</th>\n",
       "      <td>Vĩnh Phúc phấn đấu trở thành điển hình cho hệ ...</td>\n",
       "      <td>Nhân Dân</td>\n",
       "      <td>Đồng Bằng Sông Hồng</td>\n",
       "      <td>Sáng 20/12, tỉnh Vĩnh Phúc phối hợp Bộ Khoa họ...</td>\n",
       "      <td>0</td>\n",
       "      <td>0</td>\n",
       "      <td>0</td>\n",
       "      <td>0</td>\n",
       "      <td>0</td>\n",
       "    </tr>\n",
       "  </tbody>\n",
       "</table>\n",
       "</div>"
      ],
      "text/plain": [
       "                                               Title      Source  \\\n",
       "0  Hải Phòng: Bắt 2 đối tượng chuyên trộm cắp xe máy    Lao Động   \n",
       "1  Vì sao giới trẻ Trung Quốc sẵn sàng ăn mặc “th...    Lao Động   \n",
       "2                   Trương Ngọc Ánh nghiện rượu nặng  afamily.vn   \n",
       "3  Con người đã làm sạch cơ thể như thế nào khi c...        GenK   \n",
       "4  Vĩnh Phúc phấn đấu trở thành điển hình cho hệ ...    Nhân Dân   \n",
       "\n",
       "                 Topic                                    Context/Summary  \\\n",
       "0            Pháp Luật  Công an TP Hải Phòng cho biết, vừa bắt giữ 2 đ...   \n",
       "1  Gia Đình - Hôn Nhân  Hình ảnh những cô gái mặc váy siêu ngắn quảng ...   \n",
       "2             Giải Trí  Trương Ngọc Ánh nhận vai diễn là 1 nhân vật ng...   \n",
       "3                 Sống  TPO - Những ghi chép sớm nhất về các chất giốn...   \n",
       "4  Đồng Bằng Sông Hồng  Sáng 20/12, tỉnh Vĩnh Phúc phối hợp Bộ Khoa họ...   \n",
       "\n",
       "   Nội dung  Từ ngữ  Dấu câu  Số từ  Total  \n",
       "0         0       0        0      0      0  \n",
       "1         0       1        1      0      1  \n",
       "2         1       0        0      0      1  \n",
       "3         0       0        1      0      1  \n",
       "4         0       0        0      0      0  "
      ]
     },
     "execution_count": 3,
     "metadata": {},
     "output_type": "execute_result"
    }
   ],
   "source": [
    "df.head()"
   ]
  },
  {
   "cell_type": "code",
   "execution_count": 4,
   "metadata": {},
   "outputs": [
    {
     "name": "stdout",
     "output_type": "stream",
     "text": [
      "<class 'pandas.core.frame.DataFrame'>\n",
      "RangeIndex: 3908 entries, 0 to 3907\n",
      "Data columns (total 9 columns):\n",
      " #   Column           Non-Null Count  Dtype \n",
      "---  ------           --------------  ----- \n",
      " 0   Title            3908 non-null   object\n",
      " 1   Source           3908 non-null   object\n",
      " 2   Topic            3908 non-null   object\n",
      " 3   Context/Summary  3908 non-null   object\n",
      " 4   Nội dung         3908 non-null   int64 \n",
      " 5   Từ ngữ           3908 non-null   int64 \n",
      " 6   Dấu câu          3908 non-null   int64 \n",
      " 7   Số từ            3908 non-null   int64 \n",
      " 8   Total            3908 non-null   int64 \n",
      "dtypes: int64(5), object(4)\n",
      "memory usage: 274.9+ KB\n"
     ]
    }
   ],
   "source": [
    "df.info()"
   ]
  },
  {
   "cell_type": "code",
   "execution_count": 5,
   "metadata": {},
   "outputs": [
    {
     "data": {
      "text/plain": [
       "Total\n",
       "0    1954\n",
       "1    1954\n",
       "Name: count, dtype: int64"
      ]
     },
     "execution_count": 5,
     "metadata": {},
     "output_type": "execute_result"
    }
   ],
   "source": [
    "df['Total'].value_counts()"
   ]
  },
  {
   "cell_type": "markdown",
   "metadata": {},
   "source": [
    "## Phương pháp 1: Dùng mô hình BERT biến đổi về token rồi phân loại"
   ]
  },
  {
   "cell_type": "markdown",
   "metadata": {},
   "source": [
    "Sử dụng tokenizer của mô hình BERT để chuyển thành các dạng vector đặc trưng"
   ]
  },
  {
   "cell_type": "code",
   "execution_count": 6,
   "metadata": {},
   "outputs": [],
   "source": [
    "device = torch.device(\"cuda\" if torch.cuda.is_available() else \"cpu\")\n",
    "tokenizer = BertTokenizer.from_pretrained('bert-base-uncased')\n",
    "model = BertModel.from_pretrained('bert-base-uncased').to(device)\n",
    "\n",
    "# Hàm chuyển đổi văn bản thành vector đặc trưng\n",
    "def encode_text(text):\n",
    "    inputs = tokenizer(text, return_tensors='pt', truncation=True, padding=True, max_length=512)\n",
    "    outputs = model(**inputs)\n",
    "    # Sử dụng embedding của token [CLS]\n",
    "    return outputs.last_hidden_state[:, 0, :].detach().numpy().flatten()\n",
    "\n",
    "df['title_embedding'] = df['Title'].apply(lambda x: encode_text(x))\n",
    "df['context_embedding'] = df['Context/Summary'].apply(lambda x: encode_text(x))"
   ]
  },
  {
   "cell_type": "code",
   "execution_count": 7,
   "metadata": {},
   "outputs": [
    {
     "data": {
      "text/html": [
       "<div>\n",
       "<style scoped>\n",
       "    .dataframe tbody tr th:only-of-type {\n",
       "        vertical-align: middle;\n",
       "    }\n",
       "\n",
       "    .dataframe tbody tr th {\n",
       "        vertical-align: top;\n",
       "    }\n",
       "\n",
       "    .dataframe thead th {\n",
       "        text-align: right;\n",
       "    }\n",
       "</style>\n",
       "<table border=\"1\" class=\"dataframe\">\n",
       "  <thead>\n",
       "    <tr style=\"text-align: right;\">\n",
       "      <th></th>\n",
       "      <th>Title</th>\n",
       "      <th>Source</th>\n",
       "      <th>Topic</th>\n",
       "      <th>Context/Summary</th>\n",
       "      <th>Nội dung</th>\n",
       "      <th>Từ ngữ</th>\n",
       "      <th>Dấu câu</th>\n",
       "      <th>Số từ</th>\n",
       "      <th>Total</th>\n",
       "      <th>title_embedding</th>\n",
       "      <th>context_embedding</th>\n",
       "    </tr>\n",
       "  </thead>\n",
       "  <tbody>\n",
       "    <tr>\n",
       "      <th>0</th>\n",
       "      <td>Hải Phòng: Bắt 2 đối tượng chuyên trộm cắp xe máy</td>\n",
       "      <td>Lao Động</td>\n",
       "      <td>Pháp Luật</td>\n",
       "      <td>Công an TP Hải Phòng cho biết, vừa bắt giữ 2 đ...</td>\n",
       "      <td>0</td>\n",
       "      <td>0</td>\n",
       "      <td>0</td>\n",
       "      <td>0</td>\n",
       "      <td>0</td>\n",
       "      <td>[-0.71299726, 0.03100263, 0.20968026, -0.26313...</td>\n",
       "      <td>[-0.8575342, -0.08392504, 0.19292606, -0.35398...</td>\n",
       "    </tr>\n",
       "    <tr>\n",
       "      <th>1</th>\n",
       "      <td>Vì sao giới trẻ Trung Quốc sẵn sàng ăn mặc “th...</td>\n",
       "      <td>Lao Động</td>\n",
       "      <td>Gia Đình - Hôn Nhân</td>\n",
       "      <td>Hình ảnh những cô gái mặc váy siêu ngắn quảng ...</td>\n",
       "      <td>0</td>\n",
       "      <td>1</td>\n",
       "      <td>1</td>\n",
       "      <td>0</td>\n",
       "      <td>1</td>\n",
       "      <td>[-0.80902183, -0.011687051, -0.0059735402, -0....</td>\n",
       "      <td>[-1.176662, -0.003726624, 0.1798513, -0.432526...</td>\n",
       "    </tr>\n",
       "    <tr>\n",
       "      <th>2</th>\n",
       "      <td>Trương Ngọc Ánh nghiện rượu nặng</td>\n",
       "      <td>afamily.vn</td>\n",
       "      <td>Giải Trí</td>\n",
       "      <td>Trương Ngọc Ánh nhận vai diễn là 1 nhân vật ng...</td>\n",
       "      <td>1</td>\n",
       "      <td>0</td>\n",
       "      <td>0</td>\n",
       "      <td>0</td>\n",
       "      <td>1</td>\n",
       "      <td>[-0.77212703, 0.018759597, -0.009384301, -0.38...</td>\n",
       "      <td>[-0.6397566, -0.080910966, 0.13438088, -0.4164...</td>\n",
       "    </tr>\n",
       "    <tr>\n",
       "      <th>3</th>\n",
       "      <td>Con người đã làm sạch cơ thể như thế nào khi c...</td>\n",
       "      <td>GenK</td>\n",
       "      <td>Sống</td>\n",
       "      <td>TPO - Những ghi chép sớm nhất về các chất giốn...</td>\n",
       "      <td>0</td>\n",
       "      <td>0</td>\n",
       "      <td>1</td>\n",
       "      <td>0</td>\n",
       "      <td>1</td>\n",
       "      <td>[-0.60842055, -0.13040267, -0.0401419, -0.4098...</td>\n",
       "      <td>[-1.0008287, 0.03606192, 0.39984372, -0.274794...</td>\n",
       "    </tr>\n",
       "    <tr>\n",
       "      <th>4</th>\n",
       "      <td>Vĩnh Phúc phấn đấu trở thành điển hình cho hệ ...</td>\n",
       "      <td>Nhân Dân</td>\n",
       "      <td>Đồng Bằng Sông Hồng</td>\n",
       "      <td>Sáng 20/12, tỉnh Vĩnh Phúc phối hợp Bộ Khoa họ...</td>\n",
       "      <td>0</td>\n",
       "      <td>0</td>\n",
       "      <td>0</td>\n",
       "      <td>0</td>\n",
       "      <td>0</td>\n",
       "      <td>[-1.0218565, 0.11979359, -0.09953272, -0.20461...</td>\n",
       "      <td>[-0.6136223, -0.6126117, 0.2358214, -0.3825055...</td>\n",
       "    </tr>\n",
       "  </tbody>\n",
       "</table>\n",
       "</div>"
      ],
      "text/plain": [
       "                                               Title      Source  \\\n",
       "0  Hải Phòng: Bắt 2 đối tượng chuyên trộm cắp xe máy    Lao Động   \n",
       "1  Vì sao giới trẻ Trung Quốc sẵn sàng ăn mặc “th...    Lao Động   \n",
       "2                   Trương Ngọc Ánh nghiện rượu nặng  afamily.vn   \n",
       "3  Con người đã làm sạch cơ thể như thế nào khi c...        GenK   \n",
       "4  Vĩnh Phúc phấn đấu trở thành điển hình cho hệ ...    Nhân Dân   \n",
       "\n",
       "                 Topic                                    Context/Summary  \\\n",
       "0            Pháp Luật  Công an TP Hải Phòng cho biết, vừa bắt giữ 2 đ...   \n",
       "1  Gia Đình - Hôn Nhân  Hình ảnh những cô gái mặc váy siêu ngắn quảng ...   \n",
       "2             Giải Trí  Trương Ngọc Ánh nhận vai diễn là 1 nhân vật ng...   \n",
       "3                 Sống  TPO - Những ghi chép sớm nhất về các chất giốn...   \n",
       "4  Đồng Bằng Sông Hồng  Sáng 20/12, tỉnh Vĩnh Phúc phối hợp Bộ Khoa họ...   \n",
       "\n",
       "   Nội dung  Từ ngữ  Dấu câu  Số từ  Total  \\\n",
       "0         0       0        0      0      0   \n",
       "1         0       1        1      0      1   \n",
       "2         1       0        0      0      1   \n",
       "3         0       0        1      0      1   \n",
       "4         0       0        0      0      0   \n",
       "\n",
       "                                     title_embedding  \\\n",
       "0  [-0.71299726, 0.03100263, 0.20968026, -0.26313...   \n",
       "1  [-0.80902183, -0.011687051, -0.0059735402, -0....   \n",
       "2  [-0.77212703, 0.018759597, -0.009384301, -0.38...   \n",
       "3  [-0.60842055, -0.13040267, -0.0401419, -0.4098...   \n",
       "4  [-1.0218565, 0.11979359, -0.09953272, -0.20461...   \n",
       "\n",
       "                                   context_embedding  \n",
       "0  [-0.8575342, -0.08392504, 0.19292606, -0.35398...  \n",
       "1  [-1.176662, -0.003726624, 0.1798513, -0.432526...  \n",
       "2  [-0.6397566, -0.080910966, 0.13438088, -0.4164...  \n",
       "3  [-1.0008287, 0.03606192, 0.39984372, -0.274794...  \n",
       "4  [-0.6136223, -0.6126117, 0.2358214, -0.3825055...  "
      ]
     },
     "execution_count": 7,
     "metadata": {},
     "output_type": "execute_result"
    }
   ],
   "source": [
    "df.head()"
   ]
  },
  {
   "cell_type": "code",
   "execution_count": 12,
   "metadata": {},
   "outputs": [],
   "source": [
    "X = np.hstack([\n",
    "        np.array(df['title_embedding'].to_list()),  # Chuyển thành numpy array\n",
    "        np.array(df['context_embedding'].to_list())\n",
    "    ])\n",
    "y = df[['Total']]\n",
    "\n",
    "# Chia dữ liệu\n",
    "# Lấy 2500 dòng đầu cho tập train\n",
    "X_train = X[:2500]\n",
    "y_train = y[:2500]\n",
    "\n",
    "# Lấy phần còn lại và chia đều cho validation và test\n",
    "X_remaining = X[2500:]\n",
    "y_remaining = y[2500:]\n",
    "X_val, X_test, y_val, y_test = train_test_split(X_remaining, y_remaining, test_size=0.5, random_state=42)"
   ]
  },
  {
   "cell_type": "code",
   "execution_count": 4,
   "metadata": {},
   "outputs": [],
   "source": [
    "# Hàm chạy mô hình và ghi kết quả\n",
    "def evaluate_model(model, X, y, set_name):\n",
    "        y_pred = model.predict(X)\n",
    "        print(f\"\\nKết quả trên tập {set_name}:\")\n",
    "        print(classification_report(y, y_pred, digits=3))"
   ]
  },
  {
   "cell_type": "markdown",
   "metadata": {},
   "source": [
    "SVM"
   ]
  },
  {
   "cell_type": "code",
   "execution_count": 17,
   "metadata": {},
   "outputs": [
    {
     "name": "stderr",
     "output_type": "stream",
     "text": [
      "c:\\ProgramData\\anaconda3\\Lib\\site-packages\\sklearn\\utils\\validation.py:1300: DataConversionWarning: A column-vector y was passed when a 1d array was expected. Please change the shape of y to (n_samples, ), for example using ravel().\n",
      "  y = column_or_1d(y, warn=True)\n"
     ]
    },
    {
     "name": "stdout",
     "output_type": "stream",
     "text": [
      "\n",
      "Kết quả trên tập huấn luyện:\n",
      "              precision    recall  f1-score   support\n",
      "\n",
      "           0      0.869     0.897     0.883      1262\n",
      "           1      0.891     0.862     0.876      1238\n",
      "\n",
      "    accuracy                          0.880      2500\n",
      "   macro avg      0.880     0.879     0.880      2500\n",
      "weighted avg      0.880     0.880     0.880      2500\n",
      "\n",
      "\n",
      "Kết quả trên tập validation:\n",
      "              precision    recall  f1-score   support\n",
      "\n",
      "           0      0.766     0.871     0.815       342\n",
      "           1      0.860     0.749     0.801       362\n",
      "\n",
      "    accuracy                          0.808       704\n",
      "   macro avg      0.813     0.810     0.808       704\n",
      "weighted avg      0.815     0.808     0.808       704\n",
      "\n",
      "\n",
      "Kết quả trên tập kiểm thử:\n",
      "              precision    recall  f1-score   support\n",
      "\n",
      "           0      0.763     0.820     0.791       350\n",
      "           1      0.808     0.749     0.777       354\n",
      "\n",
      "    accuracy                          0.784       704\n",
      "   macro avg      0.786     0.784     0.784       704\n",
      "weighted avg      0.786     0.784     0.784       704\n",
      "\n"
     ]
    }
   ],
   "source": [
    "from sklearn.model_selection import GridSearchCV\n",
    "\n",
    "svm_bert = SVC(C=5, kernel='rbf', random_state=42)\n",
    "svm_bert.fit(X_train, y_train)\n",
    "\n",
    "evaluate_model(svm_bert, X_train, y_train, \"huấn luyện\")\n",
    "evaluate_model(svm_bert, X_val, y_val, \"validation\")\n",
    "evaluate_model(svm_bert, X_test, y_test, \"kiểm thử\")"
   ]
  },
  {
   "cell_type": "markdown",
   "metadata": {},
   "source": [
    "SVM-SGD"
   ]
  },
  {
   "cell_type": "code",
   "execution_count": 28,
   "metadata": {},
   "outputs": [
    {
     "name": "stderr",
     "output_type": "stream",
     "text": [
      "c:\\ProgramData\\anaconda3\\Lib\\site-packages\\sklearn\\utils\\validation.py:1300: DataConversionWarning: A column-vector y was passed when a 1d array was expected. Please change the shape of y to (n_samples, ), for example using ravel().\n",
      "  y = column_or_1d(y, warn=True)\n"
     ]
    },
    {
     "name": "stdout",
     "output_type": "stream",
     "text": [
      "\n",
      "Kết quả trên tập huấn luyện:\n",
      "              precision    recall  f1-score   support\n",
      "\n",
      "           0      0.845     0.854     0.850      1262\n",
      "           1      0.850     0.841     0.845      1238\n",
      "\n",
      "    accuracy                          0.848      2500\n",
      "   macro avg      0.848     0.848     0.848      2500\n",
      "weighted avg      0.848     0.848     0.848      2500\n",
      "\n",
      "\n",
      "Kết quả trên tập validation:\n",
      "              precision    recall  f1-score   support\n",
      "\n",
      "           0      0.764     0.842     0.801       342\n",
      "           1      0.835     0.754     0.792       362\n",
      "\n",
      "    accuracy                          0.797       704\n",
      "   macro avg      0.799     0.798     0.797       704\n",
      "weighted avg      0.800     0.797     0.797       704\n",
      "\n",
      "\n",
      "Kết quả trên tập kiểm thử:\n",
      "              precision    recall  f1-score   support\n",
      "\n",
      "           0      0.780     0.800     0.790       350\n",
      "           1      0.797     0.777     0.787       354\n",
      "\n",
      "    accuracy                          0.788       704\n",
      "   macro avg      0.789     0.788     0.788       704\n",
      "weighted avg      0.789     0.788     0.788       704\n",
      "\n"
     ]
    }
   ],
   "source": [
    "# Huấn luyện mô hình SVM bằng SGDClassifier\n",
    "svm_sgd_model = SGDClassifier(loss='hinge', learning_rate='optimal', alpha=0.025)\n",
    "svm_sgd_model.fit(X_train, y_train)\n",
    "\n",
    "# Dự đoán và tính toán độ chính xác\n",
    "evaluate_model(svm_sgd_model, X_train, y_train, \"huấn luyện\")\n",
    "evaluate_model(svm_sgd_model, X_val, y_val, \"validation\")\n",
    "evaluate_model(svm_sgd_model, X_test, y_test, \"kiểm thử\")"
   ]
  },
  {
   "cell_type": "markdown",
   "metadata": {},
   "source": [
    "Logistic"
   ]
  },
  {
   "cell_type": "code",
   "execution_count": 19,
   "metadata": {},
   "outputs": [
    {
     "name": "stderr",
     "output_type": "stream",
     "text": [
      "c:\\ProgramData\\anaconda3\\Lib\\site-packages\\sklearn\\utils\\validation.py:1300: DataConversionWarning: A column-vector y was passed when a 1d array was expected. Please change the shape of y to (n_samples, ), for example using ravel().\n",
      "  y = column_or_1d(y, warn=True)\n"
     ]
    },
    {
     "name": "stdout",
     "output_type": "stream",
     "text": [
      "\n",
      "Kết quả trên tập huấn luyện:\n",
      "              precision    recall  f1-score   support\n",
      "\n",
      "           0      0.861     0.896     0.878      1262\n",
      "           1      0.890     0.852     0.870      1238\n",
      "\n",
      "    accuracy                          0.874      2500\n",
      "   macro avg      0.875     0.874     0.874      2500\n",
      "weighted avg      0.875     0.874     0.874      2500\n",
      "\n",
      "\n",
      "Kết quả trên tập validation:\n",
      "              precision    recall  f1-score   support\n",
      "\n",
      "           0      0.749     0.854     0.798       342\n",
      "           1      0.841     0.729     0.781       362\n",
      "\n",
      "    accuracy                          0.790       704\n",
      "   macro avg      0.795     0.792     0.789       704\n",
      "weighted avg      0.796     0.790     0.789       704\n",
      "\n",
      "\n",
      "Kết quả trên tập kiểm thử:\n",
      "              precision    recall  f1-score   support\n",
      "\n",
      "           0      0.768     0.803     0.785       350\n",
      "           1      0.796     0.760     0.777       354\n",
      "\n",
      "    accuracy                          0.781       704\n",
      "   macro avg      0.782     0.781     0.781       704\n",
      "weighted avg      0.782     0.781     0.781       704\n",
      "\n"
     ]
    }
   ],
   "source": [
    "lr_model = LogisticRegression(solver='liblinear',C=0.1, random_state=42)\n",
    "lr_model.fit(X_train, y_train)\n",
    "\n",
    "evaluate_model(lr_model, X_train, y_train, \"huấn luyện\")\n",
    "evaluate_model(lr_model, X_val, y_val, \"validation\")\n",
    "evaluate_model(lr_model, X_test, y_test, \"kiểm thử\")"
   ]
  },
  {
   "cell_type": "markdown",
   "metadata": {},
   "source": [
    "Logistic SGD"
   ]
  },
  {
   "cell_type": "code",
   "execution_count": 46,
   "metadata": {},
   "outputs": [
    {
     "name": "stderr",
     "output_type": "stream",
     "text": [
      "c:\\ProgramData\\anaconda3\\Lib\\site-packages\\sklearn\\utils\\validation.py:1300: DataConversionWarning: A column-vector y was passed when a 1d array was expected. Please change the shape of y to (n_samples, ), for example using ravel().\n",
      "  y = column_or_1d(y, warn=True)\n"
     ]
    },
    {
     "name": "stdout",
     "output_type": "stream",
     "text": [
      "\n",
      "Kết quả trên tập huấn luyện:\n",
      "              precision    recall  f1-score   support\n",
      "\n",
      "           0      0.806     0.903     0.852      1262\n",
      "           1      0.888     0.778     0.829      1238\n",
      "\n",
      "    accuracy                          0.841      2500\n",
      "   macro avg      0.847     0.841     0.840      2500\n",
      "weighted avg      0.846     0.841     0.841      2500\n",
      "\n",
      "\n",
      "Kết quả trên tập validation:\n",
      "              precision    recall  f1-score   support\n",
      "\n",
      "           0      0.729     0.895     0.803       342\n",
      "           1      0.873     0.685     0.768       362\n",
      "\n",
      "    accuracy                          0.787       704\n",
      "   macro avg      0.801     0.790     0.785       704\n",
      "weighted avg      0.803     0.787     0.785       704\n",
      "\n",
      "\n",
      "Kết quả trên tập kiểm thử:\n",
      "              precision    recall  f1-score   support\n",
      "\n",
      "           0      0.739     0.851     0.792       350\n",
      "           1      0.827     0.703     0.760       354\n",
      "\n",
      "    accuracy                          0.777       704\n",
      "   macro avg      0.783     0.777     0.776       704\n",
      "weighted avg      0.784     0.777     0.776       704\n",
      "\n"
     ]
    }
   ],
   "source": [
    "# Huấn luyện mô hình Logistic Regression bằng SGDClassifier\n",
    "lr_sgd_model = SGDClassifier(loss='log_loss', learning_rate='optimal', alpha=0.01, random_state=42)\n",
    "lr_sgd_model.fit(X_train, y_train)\n",
    "\n",
    "evaluate_model(lr_sgd_model, X_train, y_train, \"huấn luyện\")\n",
    "evaluate_model(lr_sgd_model, X_val, y_val, \"validation\")\n",
    "evaluate_model(lr_sgd_model, X_test, y_test, \"kiểm thử\")"
   ]
  },
  {
   "cell_type": "markdown",
   "metadata": {},
   "source": [
    "## Phương pháp 2: Sử dụng TF-IDF"
   ]
  },
  {
   "cell_type": "code",
   "execution_count": 7,
   "metadata": {},
   "outputs": [],
   "source": [
    "def get_strong_patterns():\n",
    "    \"\"\"Định nghĩa các mẫu từ và cụm từ mạnh\"\"\"\n",
    "    return {\n",
    "        'strong_verbs': [\n",
    "            'sốc', 'choáng', 'ngỡ ngàng', 'bất ngờ', 'kinh hoàng', 'khủng khiếp',\n",
    "            'phẫn nộ', 'căng thẳng', 'tức giận', 'náo loạn', 'hoảng loạn',\n",
    "            'phát hiện', 'tiết lộ', 'tố cáo', 'vạch trần', 'lật tẩy',\n",
    "            'đột phá', 'đột kích', 'đột nhập', 'tấn công', 'khởi tố',\n",
    "            'bắt quả tang', 'bắt giữ', 'triệt phá', 'xóa sổ', 'san phẳng'\n",
    "        ],\n",
    "        'strong_adjectives': [\n",
    "            'khủng', 'khổng lồ', 'siêu', 'cực', 'đỉnh', 'xịn',\n",
    "            'kinh dị', 'kinh khủng', 'dễ sợ', 'đáng sợ', 'rùng rợn',\n",
    "            'gây sốc', 'sốc nặng', 'không tưởng', 'khó tin',\n",
    "            'đắt đỏ', 'rẻ bèo', 'bất thường', 'lạ lùng', 'kỳ lạ'\n",
    "        ],\n",
    "        'clickbait_phrases': [\n",
    "            'và cái kết', 'bất ngờ với', 'tá hỏa', 'ai cũng phải',\n",
    "            'không thể tin', 'khiến dân tình', 'gây bão', 'xuất hiện bất ngờ',\n",
    "            'cư dân mạng', 'dân mạng', 'cộng đồng mạng', 'netizen'\n",
    "        ]\n",
    "    }\n",
    "\n",
    "# Chuyển đổi text thành features\n",
    "def convert_text_to_features(title_text, content_text):\n",
    "    \"\"\"Chuyển đổi text thành features số, chỉ áp dụng cho tiêu đề\"\"\"\n",
    "    title_text = str(title_text)\n",
    "    content_text = str(content_text)  # Giữ lại để phân tích tính chính xác\n",
    "    \n",
    "    patterns = get_strong_patterns()\n",
    "\n",
    "    features = {\n",
    "        # Đặc trưng về độ dài tiêu đề\n",
    "        'title_length': len(title_text),\n",
    "        'title_word_count': len(title_text.split()),\n",
    "        \n",
    "        # Đặc trưng về dấu câu trong tiêu đề\n",
    "        'title_exclamation': title_text.count('!'),\n",
    "        'title_question': title_text.count('?'),\n",
    "        'title_dots': title_text.count('...'),\n",
    "        'title_colon': title_text.count(':'),\n",
    "        'title_single_quote': title_text.count(\"'\"),\n",
    "        'title_double_quote': title_text.count('\"'),\n",
    "\n",
    "        # Đặc trưng về từ mạnh trong tiêu đề\n",
    "        'title_strong_verbs': sum(1 for word in patterns['strong_verbs'] if word in title_text.lower()),\n",
    "        'title_strong_adjectives': sum(1 for word in patterns['strong_adjectives'] if word in title_text.lower()),\n",
    "        'title_clickbait_phrases': sum(1 for phrase in patterns['clickbait_phrases'] if phrase in title_text.lower()),\n",
    "        \n",
    "        # Đặc trưng về số trong tiêu đề\n",
    "        'title_numbers': len([n for n in title_text.split() if n.isdigit()]),\n",
    "        \n",
    "        # Đặc trưng về chữ hoa trong tiêu đề\n",
    "        'title_uppercase_ratio': sum(1 for c in title_text if c.isupper()) / len(title_text) if len(title_text) > 0 else 0,\n",
    "    }\n",
    "    return features"
   ]
  },
  {
   "cell_type": "code",
   "execution_count": 126,
   "metadata": {},
   "outputs": [],
   "source": [
    "# Tạo TF-IDF cho tiêu đề\n",
    "title_tfidf = TfidfVectorizer(max_features=2000)\n",
    "title_features = title_tfidf.fit_transform(df['Title'].astype(str))\n",
    "\n",
    "# Tạo TF-IDF cho nội dung\n",
    "content_tfidf = TfidfVectorizer(max_features=2000)\n",
    "content_features = content_tfidf.fit_transform(df['Context/Summary'].astype(str))\n",
    "\n",
    "# Trích xuất đặc trưng bổ sung\n",
    "additional_features = pd.DataFrame([\n",
    "    convert_text_to_features(title, content) \n",
    "    for title, content in zip(df['Title'], df['Context/Summary'])\n",
    "])\n",
    "\n",
    "X = np.hstack([\n",
    "        title_features.toarray(),\n",
    "        content_features.toarray(),\n",
    "        additional_features\n",
    "    ])\n",
    "y = df[['Total']]\n",
    "\n",
    "# Chia dữ liệu\n",
    "# Lấy 2500 dòng đầu cho tập train\n",
    "X_train = X[:2500]\n",
    "y_train = y[:2500]\n",
    "\n",
    "# Lấy phần còn lại và chia đều cho validation và test\n",
    "X_remaining = X[2500:]\n",
    "y_remaining = y[2500:]\n",
    "X_val, X_test, y_val, y_test = train_test_split(X_remaining, y_remaining, test_size=0.5, random_state=42)"
   ]
  },
  {
   "cell_type": "markdown",
   "metadata": {},
   "source": [
    "SVM"
   ]
  },
  {
   "cell_type": "code",
   "execution_count": 127,
   "metadata": {},
   "outputs": [
    {
     "name": "stderr",
     "output_type": "stream",
     "text": [
      "c:\\ProgramData\\anaconda3\\Lib\\site-packages\\sklearn\\utils\\validation.py:1300: DataConversionWarning: A column-vector y was passed when a 1d array was expected. Please change the shape of y to (n_samples, ), for example using ravel().\n",
      "  y = column_or_1d(y, warn=True)\n"
     ]
    },
    {
     "name": "stdout",
     "output_type": "stream",
     "text": [
      "\n",
      "Kết quả trên tập huấn luyện:\n",
      "              precision    recall  f1-score   support\n",
      "\n",
      "           0      0.902     0.951     0.926      1262\n",
      "           1      0.947     0.894     0.920      1238\n",
      "\n",
      "    accuracy                          0.923      2500\n",
      "   macro avg      0.924     0.923     0.923      2500\n",
      "weighted avg      0.924     0.923     0.923      2500\n",
      "\n",
      "\n",
      "Kết quả trên tập validation:\n",
      "              precision    recall  f1-score   support\n",
      "\n",
      "           0      0.757     0.886     0.817       342\n",
      "           1      0.872     0.732     0.796       362\n",
      "\n",
      "    accuracy                          0.807       704\n",
      "   macro avg      0.815     0.809     0.806       704\n",
      "weighted avg      0.816     0.807     0.806       704\n",
      "\n",
      "\n",
      "Kết quả trên tập kiểm thử:\n",
      "              precision    recall  f1-score   support\n",
      "\n",
      "           0      0.759     0.857     0.805       350\n",
      "           1      0.838     0.732     0.781       354\n",
      "\n",
      "    accuracy                          0.794       704\n",
      "   macro avg      0.799     0.794     0.793       704\n",
      "weighted avg      0.799     0.794     0.793       704\n",
      "\n"
     ]
    }
   ],
   "source": [
    "best_svm = SVC(C=1000, kernel='rbf', random_state=42)\n",
    "best_svm.fit(X_train, y_train)\n",
    "\n",
    "# Đánh giá mô hình\n",
    "evaluate_model(best_svm, X_train, y_train, \"huấn luyện\")\n",
    "evaluate_model(best_svm, X_val, y_val, \"validation\")\n",
    "evaluate_model(best_svm, X_test, y_test, \"kiểm thử\")"
   ]
  },
  {
   "cell_type": "markdown",
   "metadata": {},
   "source": [
    "SVM-SGD"
   ]
  },
  {
   "cell_type": "code",
   "execution_count": 128,
   "metadata": {},
   "outputs": [
    {
     "name": "stderr",
     "output_type": "stream",
     "text": [
      "c:\\ProgramData\\anaconda3\\Lib\\site-packages\\sklearn\\utils\\validation.py:1300: DataConversionWarning: A column-vector y was passed when a 1d array was expected. Please change the shape of y to (n_samples, ), for example using ravel().\n",
      "  y = column_or_1d(y, warn=True)\n"
     ]
    },
    {
     "name": "stdout",
     "output_type": "stream",
     "text": [
      "\n",
      "Kết quả SGD-SVM:\n",
      "\n",
      "Kết quả trên tập huấn luyện:\n",
      "              precision    recall  f1-score   support\n",
      "\n",
      "           0      0.780     0.793     0.787      1262\n",
      "           1      0.786     0.772     0.779      1238\n",
      "\n",
      "    accuracy                          0.783      2500\n",
      "   macro avg      0.783     0.783     0.783      2500\n",
      "weighted avg      0.783     0.783     0.783      2500\n",
      "\n",
      "\n",
      "Kết quả trên tập validation:\n",
      "              precision    recall  f1-score   support\n",
      "\n",
      "           0      0.759     0.784     0.771       342\n",
      "           1      0.789     0.765     0.777       362\n",
      "\n",
      "    accuracy                          0.774       704\n",
      "   macro avg      0.774     0.774     0.774       704\n",
      "weighted avg      0.775     0.774     0.774       704\n",
      "\n",
      "\n",
      "Kết quả trên tập kiểm thử:\n",
      "              precision    recall  f1-score   support\n",
      "\n",
      "           0      0.741     0.777     0.759       350\n",
      "           1      0.769     0.732     0.750       354\n",
      "\n",
      "    accuracy                          0.754       704\n",
      "   macro avg      0.755     0.754     0.754       704\n",
      "weighted avg      0.755     0.754     0.754       704\n",
      "\n"
     ]
    }
   ],
   "source": [
    "best_sgd_svm = SGDClassifier(loss='hinge', alpha=0.01, penalty='l1', random_state=42)\n",
    "best_sgd_svm.fit(X_train, y_train)\n",
    "\n",
    "# Đánh giá mô hình SGD-SVM\n",
    "print(\"\\nKết quả SGD-SVM:\")\n",
    "evaluate_model(best_sgd_svm, X_train, y_train, \"huấn luyện\")\n",
    "evaluate_model(best_sgd_svm, X_val, y_val, \"validation\")\n",
    "evaluate_model(best_sgd_svm, X_test, y_test, \"kiểm thử\")"
   ]
  },
  {
   "cell_type": "markdown",
   "metadata": {},
   "source": [
    "Logistic"
   ]
  },
  {
   "cell_type": "code",
   "execution_count": 129,
   "metadata": {},
   "outputs": [
    {
     "name": "stderr",
     "output_type": "stream",
     "text": [
      "c:\\ProgramData\\anaconda3\\Lib\\site-packages\\sklearn\\utils\\validation.py:1300: DataConversionWarning: A column-vector y was passed when a 1d array was expected. Please change the shape of y to (n_samples, ), for example using ravel().\n",
      "  y = column_or_1d(y, warn=True)\n"
     ]
    },
    {
     "name": "stdout",
     "output_type": "stream",
     "text": [
      "\n",
      "Kết quả trên tập huấn luyện:\n",
      "              precision    recall  f1-score   support\n",
      "\n",
      "           0      0.815     0.891     0.851      1262\n",
      "           1      0.877     0.794     0.833      1238\n",
      "\n",
      "    accuracy                          0.843      2500\n",
      "   macro avg      0.846     0.842     0.842      2500\n",
      "weighted avg      0.846     0.843     0.842      2500\n",
      "\n",
      "\n",
      "Kết quả trên tập validation:\n",
      "              precision    recall  f1-score   support\n",
      "\n",
      "           0      0.771     0.886     0.824       342\n",
      "           1      0.875     0.751     0.808       362\n",
      "\n",
      "    accuracy                          0.817       704\n",
      "   macro avg      0.823     0.819     0.816       704\n",
      "weighted avg      0.824     0.817     0.816       704\n",
      "\n",
      "\n",
      "Kết quả trên tập kiểm thử:\n",
      "              precision    recall  f1-score   support\n",
      "\n",
      "           0      0.755     0.846     0.798       350\n",
      "           1      0.827     0.729     0.775       354\n",
      "\n",
      "    accuracy                          0.787       704\n",
      "   macro avg      0.791     0.787     0.786       704\n",
      "weighted avg      0.791     0.787     0.786       704\n",
      "\n"
     ]
    }
   ],
   "source": [
    "best_logistic = LogisticRegression(C=1, penalty='l1', solver='liblinear', random_state=42)\n",
    "best_logistic.fit(X_train, y_train)\n",
    "\n",
    "# Đánh giá mô hình\n",
    "evaluate_model(best_logistic, X_train, y_train, \"huấn luyện\")\n",
    "evaluate_model(best_logistic, X_val, y_val, \"validation\")\n",
    "evaluate_model(best_logistic, X_test, y_test, \"kiểm thử\")"
   ]
  },
  {
   "cell_type": "markdown",
   "metadata": {},
   "source": [
    "Logistic-SGD"
   ]
  },
  {
   "cell_type": "code",
   "execution_count": null,
   "metadata": {},
   "outputs": [
    {
     "name": "stderr",
     "output_type": "stream",
     "text": [
      "c:\\ProgramData\\anaconda3\\Lib\\site-packages\\sklearn\\utils\\validation.py:1300: DataConversionWarning: A column-vector y was passed when a 1d array was expected. Please change the shape of y to (n_samples, ), for example using ravel().\n",
      "  y = column_or_1d(y, warn=True)\n"
     ]
    },
    {
     "name": "stdout",
     "output_type": "stream",
     "text": [
      "\n",
      "Kết quả SGD-Logistic:\n",
      "\n",
      "Kết quả trên tập huấn luyện:\n",
      "              precision    recall  f1-score   support\n",
      "\n",
      "           0      0.735     0.834     0.781      1262\n",
      "           1      0.803     0.693     0.744      1238\n",
      "\n",
      "    accuracy                          0.764      2500\n",
      "   macro avg      0.769     0.763     0.763      2500\n",
      "weighted avg      0.769     0.764     0.763      2500\n",
      "\n",
      "\n",
      "Kết quả trên tập validation:\n",
      "              precision    recall  f1-score   support\n",
      "\n",
      "           0      0.708     0.810     0.756       342\n",
      "           1      0.792     0.685     0.735       362\n",
      "\n",
      "    accuracy                          0.746       704\n",
      "   macro avg      0.750     0.748     0.745       704\n",
      "weighted avg      0.752     0.746     0.745       704\n",
      "\n",
      "\n",
      "Kết quả trên tập kiểm thử:\n",
      "              precision    recall  f1-score   support\n",
      "\n",
      "           0      0.706     0.809     0.754       350\n",
      "           1      0.779     0.667     0.718       354\n",
      "\n",
      "    accuracy                          0.737       704\n",
      "   macro avg      0.742     0.738     0.736       704\n",
      "weighted avg      0.743     0.737     0.736       704\n",
      "\n"
     ]
    }
   ],
   "source": [
    "best_sgd_log = SGDClassifier(loss='log_loss', alpha=0.01)\n",
    "best_sgd_log.fit(X_train, y_train)\n",
    "\n",
    "# Đánh giá mô hình SGD-Logistic\n",
    "print(\"\\nKết quả SGD-Logistic:\")\n",
    "evaluate_model(best_sgd_log, X_train, y_train, \"huấn luyện\")\n",
    "evaluate_model(best_sgd_log, X_val, y_val, \"validation\")\n",
    "evaluate_model(best_sgd_log, X_test, y_test, \"kiểm thử\")"
   ]
  },
  {
   "cell_type": "markdown",
   "metadata": {},
   "source": [
    "## Phương pháp 3: Dùng hệ số LIX và RIX"
   ]
  },
  {
   "cell_type": "code",
   "execution_count": 5,
   "metadata": {},
   "outputs": [],
   "source": [
    "# Tính toán LIX và RIX\n",
    "def calculate_lix(text):\n",
    "    words = text.split()\n",
    "    num_words = len(words)\n",
    "    num_sentences = len(re.findall(r'[.!?]', text))\n",
    "    num_long_words = len([word for word in words if len(word) > 6])\n",
    "    \n",
    "    if num_sentences == 0:\n",
    "        return 0\n",
    "    \n",
    "    lix = num_words / num_sentences + (num_long_words * 100) / num_words\n",
    "    return lix\n",
    "\n",
    "def calculate_rix(text):\n",
    "    words = text.split()\n",
    "    num_sentences = len(re.findall(r'[.!?]', text))\n",
    "    num_long_words = len([word for word in words if len(word) > 6])\n",
    "    \n",
    "    if num_sentences == 0:\n",
    "        return 0\n",
    "    \n",
    "    rix = num_long_words / num_sentences\n",
    "    return rix"
   ]
  },
  {
   "cell_type": "code",
   "execution_count": 8,
   "metadata": {},
   "outputs": [],
   "source": [
    "df['RIX'] = df['Title'].apply(calculate_lix)\n",
    "df['LIX'] = df['Context/Summary'].apply(calculate_rix)\n",
    "title_features = df['RIX'].values.reshape(-1, 1)\n",
    "content_features = df['LIX'].values.reshape(-1, 1)\n",
    "\n",
    "# Trích xuất đặc trưng bổ sung\n",
    "additional_features = pd.DataFrame([\n",
    "    convert_text_to_features(title, content) \n",
    "    for title, content in zip(df['Title'], df['Context/Summary'])\n",
    "])\n",
    "\n",
    "# Kết hợp tất cả features\n",
    "X = np.hstack([\n",
    "    title_features,\n",
    "    content_features,\n",
    "    additional_features\n",
    "])\n",
    "y = df['Total']\n",
    "\n",
    "# Chia dữ liệu\n",
    "# Lấy 2500 dòng đầu cho tập train\n",
    "X_train = X[:2500]\n",
    "y_train = y[:2500]\n",
    "\n",
    "# Lấy phần còn lại và chia đều cho validation và test\n",
    "X_remaining = X[2500:]\n",
    "y_remaining = y[2500:]\n",
    "X_val, X_test, y_val, y_test = train_test_split(X_remaining, y_remaining, test_size=0.5, random_state=42)"
   ]
  },
  {
   "cell_type": "markdown",
   "metadata": {},
   "source": [
    "SVM"
   ]
  },
  {
   "cell_type": "code",
   "execution_count": 9,
   "metadata": {},
   "outputs": [
    {
     "name": "stdout",
     "output_type": "stream",
     "text": [
      "\n",
      "Kết quả trên tập huấn luyện:\n",
      "              precision    recall  f1-score   support\n",
      "\n",
      "           0      0.793     0.791     0.792      1262\n",
      "           1      0.787     0.789     0.788      1238\n",
      "\n",
      "    accuracy                          0.790      2500\n",
      "   macro avg      0.790     0.790     0.790      2500\n",
      "weighted avg      0.790     0.790     0.790      2500\n",
      "\n",
      "\n",
      "Kết quả trên tập validation:\n",
      "              precision    recall  f1-score   support\n",
      "\n",
      "           0      0.768     0.792     0.780       342\n",
      "           1      0.798     0.773     0.785       362\n",
      "\n",
      "    accuracy                          0.783       704\n",
      "   macro avg      0.783     0.783     0.783       704\n",
      "weighted avg      0.783     0.783     0.783       704\n",
      "\n",
      "\n",
      "Kết quả trên tập kiểm thử:\n",
      "              precision    recall  f1-score   support\n",
      "\n",
      "           0      0.761     0.771     0.766       350\n",
      "           1      0.771     0.760     0.765       354\n",
      "\n",
      "    accuracy                          0.766       704\n",
      "   macro avg      0.766     0.766     0.766       704\n",
      "weighted avg      0.766     0.766     0.766       704\n",
      "\n"
     ]
    }
   ],
   "source": [
    "svm_model = SVC(C=750, kernel='rbf', random_state=42)\n",
    "svm_model.fit(X_train, y_train)\n",
    "\n",
    "evaluate_model(svm_model, X_train, y_train, \"huấn luyện\")\n",
    "evaluate_model(svm_model, X_val, y_val, \"validation\")\n",
    "evaluate_model(svm_model, X_test, y_test, \"kiểm thử\")"
   ]
  },
  {
   "cell_type": "markdown",
   "metadata": {},
   "source": [
    "SVM-SGD"
   ]
  },
  {
   "cell_type": "code",
   "execution_count": 229,
   "metadata": {},
   "outputs": [
    {
     "name": "stdout",
     "output_type": "stream",
     "text": [
      "\n",
      "Kết quả SGD-Logistic:\n",
      "\n",
      "Kết quả trên tập huấn luyện:\n",
      "              precision    recall  f1-score   support\n",
      "\n",
      "           0      0.739     0.807     0.772      1262\n",
      "           1      0.783     0.710     0.745      1238\n",
      "\n",
      "    accuracy                          0.759      2500\n",
      "   macro avg      0.761     0.759     0.758      2500\n",
      "weighted avg      0.761     0.759     0.759      2500\n",
      "\n",
      "\n",
      "Kết quả trên tập validation:\n",
      "              precision    recall  f1-score   support\n",
      "\n",
      "           0      0.717     0.792     0.753       342\n",
      "           1      0.782     0.704     0.741       362\n",
      "\n",
      "    accuracy                          0.747       704\n",
      "   macro avg      0.750     0.748     0.747       704\n",
      "weighted avg      0.750     0.747     0.747       704\n",
      "\n",
      "\n",
      "Kết quả trên tập kiểm thử:\n",
      "              precision    recall  f1-score   support\n",
      "\n",
      "           0      0.709     0.786     0.745       350\n",
      "           1      0.763     0.681     0.719       354\n",
      "\n",
      "    accuracy                          0.733       704\n",
      "   macro avg      0.736     0.733     0.732       704\n",
      "weighted avg      0.736     0.733     0.732       704\n",
      "\n"
     ]
    }
   ],
   "source": [
    "sgd_svm = SGDClassifier(loss='hinge', alpha=0.1)\n",
    "sgd_svm.fit(X_train, y_train)\n",
    "\n",
    "# Đánh giá mô hình SGD-Logistic\n",
    "print(\"\\nKết quả SGD-Logistic:\")\n",
    "evaluate_model(sgd_svm, X_train, y_train, \"huấn luyện\")\n",
    "evaluate_model(sgd_svm, X_val, y_val, \"validation\")\n",
    "evaluate_model(sgd_svm, X_test, y_test, \"kiểm thử\")"
   ]
  },
  {
   "cell_type": "markdown",
   "metadata": {},
   "source": [
    "Logistic"
   ]
  },
  {
   "cell_type": "code",
   "execution_count": 14,
   "metadata": {},
   "outputs": [
    {
     "name": "stdout",
     "output_type": "stream",
     "text": [
      "\n",
      "Kết quả trên tập huấn luyện:\n",
      "              precision    recall  f1-score   support\n",
      "\n",
      "           0      0.786     0.820     0.803      1262\n",
      "           1      0.808     0.773     0.790      1238\n",
      "\n",
      "    accuracy                          0.797      2500\n",
      "   macro avg      0.797     0.797     0.797      2500\n",
      "weighted avg      0.797     0.797     0.797      2500\n",
      "\n",
      "\n",
      "Kết quả trên tập validation:\n",
      "              precision    recall  f1-score   support\n",
      "\n",
      "           0      0.759     0.822     0.789       342\n",
      "           1      0.817     0.754     0.784       362\n",
      "\n",
      "    accuracy                          0.787       704\n",
      "   macro avg      0.788     0.788     0.787       704\n",
      "weighted avg      0.789     0.787     0.787       704\n",
      "\n",
      "\n",
      "Kết quả trên tập kiểm thử:\n",
      "              precision    recall  f1-score   support\n",
      "\n",
      "           0      0.751     0.783     0.766       350\n",
      "           1      0.776     0.743     0.759       354\n",
      "\n",
      "    accuracy                          0.763       704\n",
      "   macro avg      0.763     0.763     0.763       704\n",
      "weighted avg      0.763     0.763     0.763       704\n",
      "\n"
     ]
    }
   ],
   "source": [
    "logistic_model = LogisticRegression(C=0.25, penalty='l1', solver='liblinear' ,random_state=42)\n",
    "logistic_model.fit(X_train, y_train)\n",
    "\n",
    "evaluate_model(logistic_model, X_train, y_train, \"huấn luyện\")\n",
    "evaluate_model(logistic_model, X_val, y_val, \"validation\")\n",
    "evaluate_model(logistic_model, X_test, y_test, \"kiểm thử\")"
   ]
  },
  {
   "cell_type": "markdown",
   "metadata": {},
   "source": [
    "Logistic-SGD"
   ]
  },
  {
   "cell_type": "code",
   "execution_count": 223,
   "metadata": {},
   "outputs": [
    {
     "name": "stdout",
     "output_type": "stream",
     "text": [
      "\n",
      "Kết quả SGD-Logistic:\n",
      "\n",
      "Kết quả trên tập huấn luyện:\n",
      "              precision    recall  f1-score   support\n",
      "\n",
      "           0      0.801     0.748     0.774      1262\n",
      "           1      0.759     0.811     0.784      1238\n",
      "\n",
      "    accuracy                          0.779      2500\n",
      "   macro avg      0.780     0.780     0.779      2500\n",
      "weighted avg      0.781     0.779     0.779      2500\n",
      "\n",
      "\n",
      "Kết quả trên tập validation:\n",
      "              precision    recall  f1-score   support\n",
      "\n",
      "           0      0.771     0.757     0.764       342\n",
      "           1      0.774     0.787     0.781       362\n",
      "\n",
      "    accuracy                          0.773       704\n",
      "   macro avg      0.773     0.772     0.772       704\n",
      "weighted avg      0.773     0.773     0.773       704\n",
      "\n",
      "\n",
      "Kết quả trên tập kiểm thử:\n",
      "              precision    recall  f1-score   support\n",
      "\n",
      "           0      0.775     0.729     0.751       350\n",
      "           1      0.747     0.791     0.768       354\n",
      "\n",
      "    accuracy                          0.760       704\n",
      "   macro avg      0.761     0.760     0.760       704\n",
      "weighted avg      0.761     0.760     0.760       704\n",
      "\n"
     ]
    }
   ],
   "source": [
    "sgd_log = SGDClassifier(loss='log_loss', alpha=0.001)\n",
    "sgd_log.fit(X_train, y_train)\n",
    "\n",
    "# Đánh giá mô hình SGD-Logistic\n",
    "print(\"\\nKết quả SGD-Logistic:\")\n",
    "evaluate_model(sgd_log, X_train, y_train, \"huấn luyện\")\n",
    "evaluate_model(sgd_log, X_val, y_val, \"validation\")\n",
    "evaluate_model(sgd_log, X_test, y_test, \"kiểm thử\")"
   ]
  }
 ],
 "metadata": {
  "kernelspec": {
   "display_name": "Python 3",
   "language": "python",
   "name": "python3"
  },
  "language_info": {
   "codemirror_mode": {
    "name": "ipython",
    "version": 3
   },
   "file_extension": ".py",
   "mimetype": "text/x-python",
   "name": "python",
   "nbconvert_exporter": "python",
   "pygments_lexer": "ipython3",
   "version": "3.12.7"
  }
 },
 "nbformat": 4,
 "nbformat_minor": 2
}
